{
  "nbformat": 4,
  "nbformat_minor": 0,
  "metadata": {
    "colab": {
      "name": "Identify the digits.ipynb",
      "provenance": [],
      "collapsed_sections": [],
      "authorship_tag": "ABX9TyNG0hZIZy3oMSymPMSuK/lX"
    },
    "kernelspec": {
      "name": "python3",
      "display_name": "Python 3"
    },
    "accelerator": "GPU"
  },
  "cells": [
    {
      "cell_type": "code",
      "metadata": {
        "id": "3P_POYK17atF",
        "colab_type": "code",
        "colab": {}
      },
      "source": [
        "# Code to read csv file into Colaboratory:\n",
        "!pip install -U -q PyDrive\n",
        "from pydrive.auth import GoogleAuth\n",
        "from pydrive.drive import GoogleDrive\n",
        "from google.colab import auth\n",
        "from oauth2client.client import GoogleCredentials\n",
        "# Authenticate and create the PyDrive client.\n",
        "auth.authenticate_user()\n",
        "gauth = GoogleAuth()\n",
        "gauth.credentials = GoogleCredentials.get_application_default()\n",
        "drive = GoogleDrive(gauth)"
      ],
      "execution_count": null,
      "outputs": []
    },
    {
      "cell_type": "code",
      "metadata": {
        "id": "0hUCL2dPxXXa",
        "colab_type": "code",
        "colab": {}
      },
      "source": [
        "# importing libraries\n",
        "import tensorflow as tf\n",
        "import numpy as np\n",
        "import pandas as pd\n",
        "import matplotlib.image as mpimg\n",
        "import keras\n",
        "from keras.models import Sequential\n",
        "from keras.layers import Dense, Dropout, Flatten,BatchNormalization\n",
        "from keras.layers import Conv2D, MaxPooling2D,AveragePooling2D\n",
        "from keras.utils import to_categorical\n",
        "from keras.preprocessing import image\n",
        "import numpy as np\n",
        "import pandas as pd\n",
        "import matplotlib.pyplot as plt\n",
        "from sklearn.model_selection import train_test_split\n",
        "from keras.utils import to_categorical\n",
        "from tqdm import tqdm"
      ],
      "execution_count": null,
      "outputs": []
    },
    {
      "cell_type": "code",
      "metadata": {
        "id": "gtmAqrjI1Tvb",
        "colab_type": "code",
        "colab": {
          "base_uri": "https://localhost:8080/",
          "height": 51
        },
        "outputId": "1c069115-52f5-47a4-df8d-90cd295f9857"
      },
      "source": [
        "# from google.colab import drive\n",
        "download = drive.CreateFile({'id': '1702ZE3GBXS6CMULT9HUBna1p0UlegPKv'})\n",
        "download.GetContentFile('Train.zip')\n",
        "!unzip Train.zip"
      ],
      "execution_count": null,
      "outputs": [
        {
          "output_type": "stream",
          "text": [
            "Archive:  Train.zip\n",
            "replace Images/test/49000.png? [y]es, [n]o, [A]ll, [N]one, [r]ename: N\n"
          ],
          "name": "stdout"
        }
      ]
    },
    {
      "cell_type": "code",
      "metadata": {
        "id": "BLADNWe_-Fj9",
        "colab_type": "code",
        "colab": {
          "base_uri": "https://localhost:8080/",
          "height": 204
        },
        "outputId": "fe05149b-df07-45d9-db9d-2cf60148350f"
      },
      "source": [
        "train = pd.read_csv('train.csv')\n",
        "train.head()"
      ],
      "execution_count": null,
      "outputs": [
        {
          "output_type": "execute_result",
          "data": {
            "text/html": [
              "<div>\n",
              "<style scoped>\n",
              "    .dataframe tbody tr th:only-of-type {\n",
              "        vertical-align: middle;\n",
              "    }\n",
              "\n",
              "    .dataframe tbody tr th {\n",
              "        vertical-align: top;\n",
              "    }\n",
              "\n",
              "    .dataframe thead th {\n",
              "        text-align: right;\n",
              "    }\n",
              "</style>\n",
              "<table border=\"1\" class=\"dataframe\">\n",
              "  <thead>\n",
              "    <tr style=\"text-align: right;\">\n",
              "      <th></th>\n",
              "      <th>filename</th>\n",
              "      <th>label</th>\n",
              "    </tr>\n",
              "  </thead>\n",
              "  <tbody>\n",
              "    <tr>\n",
              "      <th>0</th>\n",
              "      <td>0.png</td>\n",
              "      <td>4</td>\n",
              "    </tr>\n",
              "    <tr>\n",
              "      <th>1</th>\n",
              "      <td>1.png</td>\n",
              "      <td>9</td>\n",
              "    </tr>\n",
              "    <tr>\n",
              "      <th>2</th>\n",
              "      <td>2.png</td>\n",
              "      <td>1</td>\n",
              "    </tr>\n",
              "    <tr>\n",
              "      <th>3</th>\n",
              "      <td>3.png</td>\n",
              "      <td>7</td>\n",
              "    </tr>\n",
              "    <tr>\n",
              "      <th>4</th>\n",
              "      <td>4.png</td>\n",
              "      <td>3</td>\n",
              "    </tr>\n",
              "  </tbody>\n",
              "</table>\n",
              "</div>"
            ],
            "text/plain": [
              "  filename  label\n",
              "0    0.png      4\n",
              "1    1.png      9\n",
              "2    2.png      1\n",
              "3    3.png      7\n",
              "4    4.png      3"
            ]
          },
          "metadata": {
            "tags": []
          },
          "execution_count": 21
        }
      ]
    },
    {
      "cell_type": "code",
      "metadata": {
        "id": "RjJlmOpA-LHZ",
        "colab_type": "code",
        "colab": {
          "base_uri": "https://localhost:8080/",
          "height": 68
        },
        "outputId": "84f7bd9d-a896-4069-f970-e819e034353c"
      },
      "source": [
        "# We have grayscale images, so while loading the images we will keep grayscale=True, if you have RGB images, you should set grayscale as False\n",
        "train_image = []\n",
        "for i in tqdm(range(train.shape[0])):\n",
        "    img = image.load_img('Images/train/'+train['filename'][i], target_size=(28,28,1), grayscale=True)\n",
        "    img = image.img_to_array(img)\n",
        "    img = img/255\n",
        "    train_image.append(img)\n",
        "X = np.array(train_image)"
      ],
      "execution_count": null,
      "outputs": [
        {
          "output_type": "stream",
          "text": [
            "  0%|          | 0/49000 [00:00<?, ?it/s]/usr/local/lib/python3.6/dist-packages/keras_preprocessing/image/utils.py:107: UserWarning: grayscale is deprecated. Please use color_mode = \"grayscale\"\n",
            "  warnings.warn('grayscale is deprecated. Please use '\n",
            "100%|██████████| 49000/49000 [00:15<00:00, 3103.25it/s]\n"
          ],
          "name": "stderr"
        }
      ]
    },
    {
      "cell_type": "code",
      "metadata": {
        "id": "_EPzHrHv_Sy7",
        "colab_type": "code",
        "colab": {}
      },
      "source": [
        "# # We have grayscale images, so while loading the images we will keep grayscale=True, if you have RGB images, you should set grayscale as False\n",
        "# train_image = []\n",
        "# for i in tqdm(range(1)):\n",
        "#     img = image.load_img('Images/train/'+train['filename'][i], target_size=(28,28,1), grayscale=True)\n",
        "#     print('first',img)\n",
        "#     img = image.img_to_array(img)\n",
        "#     print('second',img)\n",
        "#     img = img/255\n",
        "#     print('third',img)\n",
        "#     train_image.append(img)\n",
        "#     print('last',train_image)\n",
        "# X = np.array(train_image)"
      ],
      "execution_count": null,
      "outputs": []
    },
    {
      "cell_type": "code",
      "metadata": {
        "id": "kSLylPm8FICV",
        "colab_type": "code",
        "colab": {
          "base_uri": "https://localhost:8080/",
          "height": 34
        },
        "outputId": "43804e41-f257-4ded-90c4-2990ec396752"
      },
      "source": [
        "y=train['label'].values\n",
        "y = to_categorical(y)\n",
        "y.shape"
      ],
      "execution_count": null,
      "outputs": [
        {
          "output_type": "execute_result",
          "data": {
            "text/plain": [
              "(49000, 10)"
            ]
          },
          "metadata": {
            "tags": []
          },
          "execution_count": 24
        }
      ]
    },
    {
      "cell_type": "code",
      "metadata": {
        "id": "JdsukLXiFIqN",
        "colab_type": "code",
        "colab": {}
      },
      "source": [
        "X_train, X_test, y_train, y_test = train_test_split(X, y, random_state=42, test_size=0.2)"
      ],
      "execution_count": null,
      "outputs": []
    },
    {
      "cell_type": "code",
      "metadata": {
        "id": "abXaaOHFF1u0",
        "colab_type": "code",
        "colab": {}
      },
      "source": [
        "# Define the model structure\n",
        "model = Sequential()\n",
        "model.add(Conv2D(256, kernel_size=(3,3),activation='relu',input_shape=(28,28,1)))\n",
        "# model.add(BatchNormalization())\n",
        "model.add(AveragePooling2D(pool_size=(2, 2)))\n",
        "\n",
        "model.add(Conv2D(128, (3,3), activation='relu'))\n",
        "# model.add(BatchNormalization())\n",
        "model.add(AveragePooling2D(pool_size=(2, 2)))\n",
        "\n",
        "model.add(Conv2D(64, (3,3), activation='relu'))\n",
        "# model.add(BatchNormalization())\n",
        "model.add(AveragePooling2D(pool_size=(2, 2)))\n",
        "\n",
        "# model.add(Conv2D(64, (3,3), activation='relu'))\n",
        "# # model.add(BatchNormalization())\n",
        "# model.add(AveragePooling2D(pool_size=(2, 2)))\n",
        "\n",
        "model.add(Dropout(0.25))\n",
        "model.add(Flatten())\n",
        "model.add(Dense(128, activation='relu'))\n",
        "model.add(Dropout(0.5))\n",
        "model.add(Dense(10, activation='softmax'))"
      ],
      "execution_count": null,
      "outputs": []
    },
    {
      "cell_type": "code",
      "metadata": {
        "id": "PvG3t7EEGWJ1",
        "colab_type": "code",
        "colab": {}
      },
      "source": [
        "# Compile the model\n",
        "model.compile(loss='categorical_crossentropy',optimizer='Adam',metrics=['accuracy'])"
      ],
      "execution_count": null,
      "outputs": []
    },
    {
      "cell_type": "code",
      "metadata": {
        "id": "qtremVRtIYtv",
        "colab_type": "code",
        "colab": {
          "base_uri": "https://localhost:8080/",
          "height": 1000
        },
        "outputId": "d7cb9b66-678c-4532-f61d-dca3105f222e"
      },
      "source": [
        "# Training the model\n",
        "history = model.fit(X_train, y_train, epochs=100, validation_data=(X_test, y_test))\n",
        "print(history.history.keys())\n",
        "# summarize history for accuracy\n",
        "plt.plot(history.history['accuracy'])\n",
        "plt.plot(history.history['val_accuracy'])\n",
        "plt.title('model accuracy')\n",
        "plt.ylabel('accuracy')\n",
        "plt.xlabel('epoch')\n",
        "plt.legend(['train', 'test'], loc='upper left')\n",
        "plt.show()\n",
        "# summarize history for loss\n",
        "plt.plot(history.history['loss'])\n",
        "plt.plot(history.history['val_loss'])\n",
        "plt.title('model loss')\n",
        "plt.ylabel('loss')\n",
        "plt.xlabel('epoch')\n",
        "plt.legend(['train', 'test'], loc='upper left')\n",
        "plt.show()"
      ],
      "execution_count": null,
      "outputs": [
        {
          "output_type": "stream",
          "text": [
            "Train on 39200 samples, validate on 9800 samples\n",
            "Epoch 1/20\n",
            "39200/39200 [==============================] - 18s 468us/step - loss: 0.5365 - accuracy: 0.8290 - val_loss: 0.1360 - val_accuracy: 0.9580\n",
            "Epoch 2/20\n",
            "39200/39200 [==============================] - 18s 463us/step - loss: 0.1959 - accuracy: 0.9423 - val_loss: 0.0923 - val_accuracy: 0.9716\n",
            "Epoch 3/20\n",
            "39200/39200 [==============================] - 18s 460us/step - loss: 0.1443 - accuracy: 0.9599 - val_loss: 0.0732 - val_accuracy: 0.9773\n",
            "Epoch 4/20\n",
            "39200/39200 [==============================] - 18s 471us/step - loss: 0.1164 - accuracy: 0.9670 - val_loss: 0.0673 - val_accuracy: 0.9783\n",
            "Epoch 5/20\n",
            "39200/39200 [==============================] - 18s 457us/step - loss: 0.1008 - accuracy: 0.9707 - val_loss: 0.0606 - val_accuracy: 0.9824\n",
            "Epoch 6/20\n",
            "39200/39200 [==============================] - 18s 457us/step - loss: 0.0840 - accuracy: 0.9755 - val_loss: 0.0533 - val_accuracy: 0.9826\n",
            "Epoch 7/20\n",
            "39200/39200 [==============================] - 18s 460us/step - loss: 0.0750 - accuracy: 0.9788 - val_loss: 0.0548 - val_accuracy: 0.9852\n",
            "Epoch 8/20\n",
            "39200/39200 [==============================] - 18s 461us/step - loss: 0.0656 - accuracy: 0.9811 - val_loss: 0.0541 - val_accuracy: 0.9843\n",
            "Epoch 9/20\n",
            "39200/39200 [==============================] - 18s 457us/step - loss: 0.0619 - accuracy: 0.9818 - val_loss: 0.0472 - val_accuracy: 0.9862\n",
            "Epoch 10/20\n",
            "39200/39200 [==============================] - 18s 462us/step - loss: 0.0531 - accuracy: 0.9844 - val_loss: 0.0532 - val_accuracy: 0.9852\n",
            "Epoch 11/20\n",
            "39200/39200 [==============================] - 18s 450us/step - loss: 0.0505 - accuracy: 0.9853 - val_loss: 0.0512 - val_accuracy: 0.9862\n",
            "Epoch 12/20\n",
            "39200/39200 [==============================] - 18s 459us/step - loss: 0.0457 - accuracy: 0.9866 - val_loss: 0.0495 - val_accuracy: 0.9870\n",
            "Epoch 13/20\n",
            "39200/39200 [==============================] - 18s 457us/step - loss: 0.0444 - accuracy: 0.9877 - val_loss: 0.0427 - val_accuracy: 0.9879\n",
            "Epoch 14/20\n",
            "39200/39200 [==============================] - 18s 458us/step - loss: 0.0395 - accuracy: 0.9885 - val_loss: 0.0448 - val_accuracy: 0.9881\n",
            "Epoch 15/20\n",
            "39200/39200 [==============================] - 18s 452us/step - loss: 0.0370 - accuracy: 0.9888 - val_loss: 0.0503 - val_accuracy: 0.9873\n",
            "Epoch 16/20\n",
            "39200/39200 [==============================] - 19s 472us/step - loss: 0.0350 - accuracy: 0.9900 - val_loss: 0.0448 - val_accuracy: 0.9883\n",
            "Epoch 17/20\n",
            "39200/39200 [==============================] - 18s 459us/step - loss: 0.0335 - accuracy: 0.9902 - val_loss: 0.0437 - val_accuracy: 0.9881\n",
            "Epoch 18/20\n",
            "39200/39200 [==============================] - 18s 462us/step - loss: 0.0316 - accuracy: 0.9907 - val_loss: 0.0412 - val_accuracy: 0.9901\n",
            "Epoch 19/20\n",
            "39200/39200 [==============================] - 18s 459us/step - loss: 0.0294 - accuracy: 0.9911 - val_loss: 0.0486 - val_accuracy: 0.9887\n",
            "Epoch 20/20\n",
            "39200/39200 [==============================] - 18s 457us/step - loss: 0.0286 - accuracy: 0.9920 - val_loss: 0.0447 - val_accuracy: 0.9891\n",
            "dict_keys(['val_loss', 'val_accuracy', 'loss', 'accuracy'])\n"
          ],
          "name": "stdout"
        },
        {
          "output_type": "display_data",
          "data": {
            "image/png": "[encoded data removed]",
            "text/plain": [
              "<Figure size 432x288 with 1 Axes>"
            ]
          },
          "metadata": {
            "tags": [],
            "needs_background": "light"
          }
        },
        {
          "output_type": "display_data",
          "data": {
            "image/png": "[encoded data removed]",
            "text/plain": [
              "<Figure size 432x288 with 1 Axes>"
            ]
          },
          "metadata": {
            "tags": [],
            "needs_background": "light"
          }
        }
      ]
    },
    {
      "cell_type": "code",
      "metadata": {
        "id": "aOVOV6XOIiDe",
        "colab_type": "code",
        "colab": {
          "base_uri": "https://localhost:8080/",
          "height": 204
        },
        "outputId": "2f5f7757-010b-454d-e6d8-8ce7843a82d9"
      },
      "source": [
        "link = '1MwBYYAwwq7-wMyLw5EM1Dk8C6wZii_Hh'\n",
        "download = drive.CreateFile({'id': link})\n",
        "download.GetContentFile('Test_fCbTej3.csv')\n",
        "test_file = pd.read_csv('Test_fCbTej3.csv')\n",
        "test_file.head()"
      ],
      "execution_count": null,
      "outputs": [
        {
          "output_type": "execute_result",
          "data": {
            "text/html": [
              "<div>\n",
              "<style scoped>\n",
              "    .dataframe tbody tr th:only-of-type {\n",
              "        vertical-align: middle;\n",
              "    }\n",
              "\n",
              "    .dataframe tbody tr th {\n",
              "        vertical-align: top;\n",
              "    }\n",
              "\n",
              "    .dataframe thead th {\n",
              "        text-align: right;\n",
              "    }\n",
              "</style>\n",
              "<table border=\"1\" class=\"dataframe\">\n",
              "  <thead>\n",
              "    <tr style=\"text-align: right;\">\n",
              "      <th></th>\n",
              "      <th>filename</th>\n",
              "    </tr>\n",
              "  </thead>\n",
              "  <tbody>\n",
              "    <tr>\n",
              "      <th>0</th>\n",
              "      <td>49000.png</td>\n",
              "    </tr>\n",
              "    <tr>\n",
              "      <th>1</th>\n",
              "      <td>49001.png</td>\n",
              "    </tr>\n",
              "    <tr>\n",
              "      <th>2</th>\n",
              "      <td>49002.png</td>\n",
              "    </tr>\n",
              "    <tr>\n",
              "      <th>3</th>\n",
              "      <td>49003.png</td>\n",
              "    </tr>\n",
              "    <tr>\n",
              "      <th>4</th>\n",
              "      <td>49004.png</td>\n",
              "    </tr>\n",
              "  </tbody>\n",
              "</table>\n",
              "</div>"
            ],
            "text/plain": [
              "    filename\n",
              "0  49000.png\n",
              "1  49001.png\n",
              "2  49002.png\n",
              "3  49003.png\n",
              "4  49004.png"
            ]
          },
          "metadata": {
            "tags": []
          },
          "execution_count": 29
        }
      ]
    },
    {
      "cell_type": "code",
      "metadata": {
        "id": "AuQDCtL4JxPG",
        "colab_type": "code",
        "colab": {
          "base_uri": "https://localhost:8080/",
          "height": 68
        },
        "outputId": "472879b4-4049-4cff-fce9-b7cc5e8f7e62"
      },
      "source": [
        "test_image = []\n",
        "for i in tqdm(range(test_file.shape[0])):\n",
        "    img = image.load_img('Images/test/'+test_file['filename'][i], target_size=(28,28,1), grayscale=True)\n",
        "    img = image.img_to_array(img)\n",
        "    img = img/255\n",
        "    test_image.append(img)\n",
        "test = np.array(test_image)"
      ],
      "execution_count": null,
      "outputs": [
        {
          "output_type": "stream",
          "text": [
            "  0%|          | 0/21000 [00:00<?, ?it/s]/usr/local/lib/python3.6/dist-packages/keras_preprocessing/image/utils.py:107: UserWarning: grayscale is deprecated. Please use color_mode = \"grayscale\"\n",
            "  warnings.warn('grayscale is deprecated. Please use '\n",
            "100%|██████████| 21000/21000 [00:06<00:00, 3010.24it/s]\n"
          ],
          "name": "stderr"
        }
      ]
    },
    {
      "cell_type": "code",
      "metadata": {
        "id": "aCRNMnhpKHfZ",
        "colab_type": "code",
        "colab": {}
      },
      "source": [
        "prediction = model.predict_classes(test)\n"
      ],
      "execution_count": null,
      "outputs": []
    },
    {
      "cell_type": "code",
      "metadata": {
        "id": "Yki6oFsNKaDd",
        "colab_type": "code",
        "colab": {}
      },
      "source": [
        "download = drive.CreateFile({'id': '15c0OGX_t3Pv2ikPjEr2M9q-oaAaS701G'})\n",
        "download.GetContentFile('Sample_Submission_lxuyBuB.csv')"
      ],
      "execution_count": null,
      "outputs": []
    },
    {
      "cell_type": "code",
      "metadata": {
        "id": "UGnAYxzPKsf8",
        "colab_type": "code",
        "colab": {}
      },
      "source": [
        "sample = pd.read_csv('Sample_Submission_lxuyBuB.csv')\n",
        "sample['filename'] = test_file['filename']\n",
        "sample['label'] = prediction\n",
        "sample.to_csv('a.csv', header=True, index=False)"
      ],
      "execution_count": null,
      "outputs": []
    },
    {
      "cell_type": "code",
      "metadata": {
        "id": "yv_LjdQuK0K9",
        "colab_type": "code",
        "colab": {
          "base_uri": "https://localhost:8080/",
          "height": 17
        },
        "outputId": "b4b83bcb-806d-4105-9396-a9a88f63a233"
      },
      "source": [
        "from google.colab import files\n",
        "files.download(\"a.csv\")"
      ],
      "execution_count": null,
      "outputs": [
        {
          "output_type": "display_data",
          "data": {
            "application/javascript": [
              "\n",
              "    async function download(id, filename, size) {\n",
              "      if (!google.colab.kernel.accessAllowed) {\n",
              "        return;\n",
              "      }\n",
              "      const div = document.createElement('div');\n",
              "      const label = document.createElement('label');\n",
              "      label.textContent = `Downloading \"${filename}\": `;\n",
              "      div.appendChild(label);\n",
              "      const progress = document.createElement('progress');\n",
              "      progress.max = size;\n",
              "      div.appendChild(progress);\n",
              "      document.body.appendChild(div);\n",
              "\n",
              "      const buffers = [];\n",
              "      let downloaded = 0;\n",
              "\n",
              "      const channel = await google.colab.kernel.comms.open(id);\n",
              "      // Send a message to notify the kernel that we're ready.\n",
              "      channel.send({})\n",
              "\n",
              "      for await (const message of channel.messages) {\n",
              "        // Send a message to notify the kernel that we're ready.\n",
              "        channel.send({})\n",
              "        if (message.buffers) {\n",
              "          for (const buffer of message.buffers) {\n",
              "            buffers.push(buffer);\n",
              "            downloaded += buffer.byteLength;\n",
              "            progress.value = downloaded;\n",
              "          }\n",
              "        }\n",
              "      }\n",
              "      const blob = new Blob(buffers, {type: 'application/binary'});\n",
              "      const a = document.createElement('a');\n",
              "      a.href = window.URL.createObjectURL(blob);\n",
              "      a.download = filename;\n",
              "      div.appendChild(a);\n",
              "      a.click();\n",
              "      div.remove();\n",
              "    }\n",
              "  "
            ],
            "text/plain": [
              "<IPython.core.display.Javascript object>"
            ]
          },
          "metadata": {
            "tags": []
          }
        },
        {
          "output_type": "display_data",
          "data": {
            "application/javascript": [
              "download(\"download_dc0d36f1-34d4-4fb9-8f6e-c5384b1d5400\", \"BN_4layer.csv\", 252015)"
            ],
            "text/plain": [
              "<IPython.core.display.Javascript object>"
            ]
          },
          "metadata": {
            "tags": []
          }
        }
      ]
    },
    {
      "cell_type": "code",
      "metadata": {
        "id": "cWBbV0GxLErk",
        "colab_type": "code",
        "colab": {}
      },
      "source": [
        "#Analytics vidhya Idetify the digits hackathon - My rank is 62 in public leaderboard"
      ],
      "execution_count": null,
      "outputs": []
    }
  ]
}